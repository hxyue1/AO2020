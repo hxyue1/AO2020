{
 "cells": [
  {
   "cell_type": "markdown",
   "metadata": {},
   "source": [
    "A notebook to calculate player elo. See: https://www.betfair.com.au/hub/tennis-elo-modelling for more details on the formula and implentation but hopefull the code is transparent enough that you can understand what is going on. I'm keeping the calculation separate from the main notebook because the computation of elo is somewhat time consuming.\n",
    "\n",
    "The dataset is from the R package Deuce: https://github.com/skoval/deuce, so download the dataset from there first before running this notebook"
   ]
  },
  {
   "cell_type": "code",
   "execution_count": 1,
   "metadata": {},
   "outputs": [],
   "source": [
    "import pandas as pd\n",
    "import numpy as np"
   ]
  },
  {
   "cell_type": "code",
   "execution_count": 2,
   "metadata": {},
   "outputs": [
    {
     "name": "stderr",
     "output_type": "stream",
     "text": [
      "/Applications/anaconda3/lib/python3.7/site-packages/IPython/core/interactiveshell.py:3058: DtypeWarning: Columns (8,18) have mixed types. Specify dtype option on import or set low_memory=False.\n",
      "  interactivity=interactivity, compiler=compiler, result=result)\n"
     ]
    }
   ],
   "source": [
    "deuce_atp = pd.read_csv('Data/atp_matches_deuce.csv')"
   ]
  },
  {
   "cell_type": "code",
   "execution_count": 3,
   "metadata": {},
   "outputs": [],
   "source": [
    "deuce_atp = pd.read_csv('Data/atp_matches_deuce.csv')\n",
    "all_names = list(set(deuce_atp.loser_name.unique()) | set(deuce_atp.winner_name.unique()))"
   ]
  },
  {
   "cell_type": "code",
   "execution_count": 4,
   "metadata": {},
   "outputs": [],
   "source": [
    "elo_dict = {player:[1500] for player in all_names}\n",
    "\n",
    "i = 0\n",
    "\n",
    "previous_winner_elos = []\n",
    "previous_loser_elos = []\n",
    "\n",
    "for index, row in deuce_atp.iterrows():\n",
    "    \n",
    "    winner = row.winner_name\n",
    "    loser = row.loser_name\n",
    "    \n",
    "    winner_elos = elo_dict[winner]\n",
    "    loser_elos = elo_dict[loser]\n",
    "    \n",
    "    winner_matches = len(winner_elos)\n",
    "    loser_matches = len(loser_elos)\n",
    "    \n",
    "    winner_old_elo = winner_elos[-1]\n",
    "    loser_old_elo = loser_elos[-1]\n",
    "    \n",
    "    previous_winner_elos.append(winner_old_elo)\n",
    "    previous_loser_elos.append(loser_old_elo)\n",
    "    \n",
    "    pr_p1_win_elo = 1/(1+10**((loser_old_elo - winner_old_elo)/400))\n",
    "    pr_p2_win_elo = 1/(1+10**((winner_old_elo - loser_old_elo)/400))\n",
    "    \n",
    "    winner_K = 250/((winner_matches+5)**0.4)\n",
    "    loser_K = 250/((loser_matches+5)**0.4)\n",
    "    \n",
    "    winner_new_elo = winner_old_elo + winner_K*(1-pr_p1_win_elo)\n",
    "    loser_new_elo = loser_old_elo + loser_K*(0-pr_p2_win_elo)\n",
    "    \n",
    "    winner_elos.append(winner_new_elo)\n",
    "    loser_elos.append(loser_new_elo)\n",
    "    \n",
    "    elo_dict[winner] = winner_elos\n",
    "    elo_dict[loser] = loser_elos"
   ]
  },
  {
   "cell_type": "code",
   "execution_count": 5,
   "metadata": {},
   "outputs": [],
   "source": [
    "deuce_atp.loc[:,'winner_old_elo'] = previous_winner_elos\n",
    "deuce_atp.loc[:,'loser_old_elo'] = previous_loser_elos"
   ]
  },
  {
   "cell_type": "code",
   "execution_count": 6,
   "metadata": {},
   "outputs": [],
   "source": [
    "deuce_atp.to_csv('Data/atp_matches_elo.csv', index=False)"
   ]
  }
 ],
 "metadata": {
  "kernelspec": {
   "display_name": "Python 3",
   "language": "python",
   "name": "python3"
  },
  "language_info": {
   "codemirror_mode": {
    "name": "ipython",
    "version": 3
   },
   "file_extension": ".py",
   "mimetype": "text/x-python",
   "name": "python",
   "nbconvert_exporter": "python",
   "pygments_lexer": "ipython3",
   "version": "3.7.4"
  }
 },
 "nbformat": 4,
 "nbformat_minor": 2
}
